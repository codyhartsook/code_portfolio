{
 "cells": [
  {
   "cell_type": "code",
   "execution_count": 88,
   "metadata": {},
   "outputs": [],
   "source": [
    "import numpy as np\n",
    "import pandas as pd\n",
    "import math\n",
    "from sklearn.preprocessing import MinMaxScaler\n",
    "from sklearn.externals import joblib\n",
    "import tensorflow as tf\n",
    "from tensorflow import keras\n",
    "import sklearn as sk\n",
    "\n",
    "# keras functions to use\n",
    "from keras.models import Sequential\n",
    "from keras.layers import Dense, Activation\n",
    "from keras import regularizers\n",
    "from sklearn.utils import class_weight\n",
    "\n",
    "import warnings  \n",
    "warnings.filterwarnings('ignore')"
   ]
  },
  {
   "cell_type": "code",
   "execution_count": 89,
   "metadata": {},
   "outputs": [
    {
     "data": {
      "text/html": [
       "<div>\n",
       "<style scoped>\n",
       "    .dataframe tbody tr th:only-of-type {\n",
       "        vertical-align: middle;\n",
       "    }\n",
       "\n",
       "    .dataframe tbody tr th {\n",
       "        vertical-align: top;\n",
       "    }\n",
       "\n",
       "    .dataframe thead th {\n",
       "        text-align: right;\n",
       "    }\n",
       "</style>\n",
       "<table border=\"1\" class=\"dataframe\">\n",
       "  <thead>\n",
       "    <tr style=\"text-align: right;\">\n",
       "      <th></th>\n",
       "      <th>pair</th>\n",
       "      <th>frame</th>\n",
       "      <th>rg</th>\n",
       "      <th>h</th>\n",
       "      <th>l</th>\n",
       "      <th>c1</th>\n",
       "      <th>c2</th>\n",
       "      <th>c3</th>\n",
       "      <th>supp</th>\n",
       "      <th>o_s</th>\n",
       "      <th>p_s</th>\n",
       "      <th>obv1</th>\n",
       "      <th>obv2</th>\n",
       "      <th>obv3</th>\n",
       "      <th>rsi1</th>\n",
       "      <th>rsi2</th>\n",
       "      <th>rsi3</th>\n",
       "      <th>natr</th>\n",
       "      <th>cyc</th>\n",
       "      <th>result</th>\n",
       "    </tr>\n",
       "  </thead>\n",
       "  <tbody>\n",
       "    <tr>\n",
       "      <th>0</th>\n",
       "      <td>CAD_JPY</td>\n",
       "      <td>H1</td>\n",
       "      <td>33</td>\n",
       "      <td>84.772</td>\n",
       "      <td>84.514</td>\n",
       "      <td>84.596</td>\n",
       "      <td>84.726</td>\n",
       "      <td>84.828</td>\n",
       "      <td>84.596</td>\n",
       "      <td>0.002010</td>\n",
       "      <td>0.002444</td>\n",
       "      <td>0.314103</td>\n",
       "      <td>0.493719</td>\n",
       "      <td>0.603425</td>\n",
       "      <td>37.034184</td>\n",
       "      <td>43.919029</td>\n",
       "      <td>50.799587</td>\n",
       "      <td>0.145238</td>\n",
       "      <td>1.041987</td>\n",
       "      <td>0.0</td>\n",
       "    </tr>\n",
       "    <tr>\n",
       "      <th>1</th>\n",
       "      <td>CAD_JPY</td>\n",
       "      <td>H1</td>\n",
       "      <td>34</td>\n",
       "      <td>84.772</td>\n",
       "      <td>84.514</td>\n",
       "      <td>84.596</td>\n",
       "      <td>84.726</td>\n",
       "      <td>84.828</td>\n",
       "      <td>84.596</td>\n",
       "      <td>0.003135</td>\n",
       "      <td>0.003158</td>\n",
       "      <td>0.314103</td>\n",
       "      <td>0.493719</td>\n",
       "      <td>0.603425</td>\n",
       "      <td>36.231891</td>\n",
       "      <td>43.112937</td>\n",
       "      <td>50.036368</td>\n",
       "      <td>0.145238</td>\n",
       "      <td>1.041987</td>\n",
       "      <td>0.0</td>\n",
       "    </tr>\n",
       "    <tr>\n",
       "      <th>2</th>\n",
       "      <td>CAD_JPY</td>\n",
       "      <td>H1</td>\n",
       "      <td>35</td>\n",
       "      <td>84.772</td>\n",
       "      <td>84.514</td>\n",
       "      <td>84.596</td>\n",
       "      <td>84.726</td>\n",
       "      <td>84.828</td>\n",
       "      <td>84.596</td>\n",
       "      <td>0.003636</td>\n",
       "      <td>0.003284</td>\n",
       "      <td>0.314103</td>\n",
       "      <td>0.493719</td>\n",
       "      <td>0.603425</td>\n",
       "      <td>34.713578</td>\n",
       "      <td>41.272618</td>\n",
       "      <td>47.861283</td>\n",
       "      <td>0.145238</td>\n",
       "      <td>1.041987</td>\n",
       "      <td>0.0</td>\n",
       "    </tr>\n",
       "    <tr>\n",
       "      <th>3</th>\n",
       "      <td>CAD_JPY</td>\n",
       "      <td>H1</td>\n",
       "      <td>36</td>\n",
       "      <td>84.772</td>\n",
       "      <td>84.514</td>\n",
       "      <td>84.596</td>\n",
       "      <td>84.726</td>\n",
       "      <td>84.828</td>\n",
       "      <td>84.596</td>\n",
       "      <td>0.004518</td>\n",
       "      <td>0.003637</td>\n",
       "      <td>0.314103</td>\n",
       "      <td>0.493719</td>\n",
       "      <td>0.603425</td>\n",
       "      <td>35.229599</td>\n",
       "      <td>41.946009</td>\n",
       "      <td>48.712112</td>\n",
       "      <td>0.145238</td>\n",
       "      <td>1.041987</td>\n",
       "      <td>0.0</td>\n",
       "    </tr>\n",
       "    <tr>\n",
       "      <th>4</th>\n",
       "      <td>CAD_JPY</td>\n",
       "      <td>H1</td>\n",
       "      <td>37</td>\n",
       "      <td>84.772</td>\n",
       "      <td>84.514</td>\n",
       "      <td>84.596</td>\n",
       "      <td>84.726</td>\n",
       "      <td>84.828</td>\n",
       "      <td>84.596</td>\n",
       "      <td>0.004738</td>\n",
       "      <td>0.003481</td>\n",
       "      <td>0.314103</td>\n",
       "      <td>0.493719</td>\n",
       "      <td>0.603425</td>\n",
       "      <td>33.855445</td>\n",
       "      <td>40.286574</td>\n",
       "      <td>46.757772</td>\n",
       "      <td>0.145238</td>\n",
       "      <td>1.041987</td>\n",
       "      <td>0.0</td>\n",
       "    </tr>\n",
       "  </tbody>\n",
       "</table>\n",
       "</div>"
      ],
      "text/plain": [
       "      pair frame  rg       h       l      c1      c2      c3    supp  \\\n",
       "0  CAD_JPY    H1  33  84.772  84.514  84.596  84.726  84.828  84.596   \n",
       "1  CAD_JPY    H1  34  84.772  84.514  84.596  84.726  84.828  84.596   \n",
       "2  CAD_JPY    H1  35  84.772  84.514  84.596  84.726  84.828  84.596   \n",
       "3  CAD_JPY    H1  36  84.772  84.514  84.596  84.726  84.828  84.596   \n",
       "4  CAD_JPY    H1  37  84.772  84.514  84.596  84.726  84.828  84.596   \n",
       "\n",
       "        o_s       p_s      obv1      obv2      obv3       rsi1       rsi2  \\\n",
       "0  0.002010  0.002444  0.314103  0.493719  0.603425  37.034184  43.919029   \n",
       "1  0.003135  0.003158  0.314103  0.493719  0.603425  36.231891  43.112937   \n",
       "2  0.003636  0.003284  0.314103  0.493719  0.603425  34.713578  41.272618   \n",
       "3  0.004518  0.003637  0.314103  0.493719  0.603425  35.229599  41.946009   \n",
       "4  0.004738  0.003481  0.314103  0.493719  0.603425  33.855445  40.286574   \n",
       "\n",
       "        rsi3      natr       cyc  result  \n",
       "0  50.799587  0.145238  1.041987     0.0  \n",
       "1  50.036368  0.145238  1.041987     0.0  \n",
       "2  47.861283  0.145238  1.041987     0.0  \n",
       "3  48.712112  0.145238  1.041987     0.0  \n",
       "4  46.757772  0.145238  1.041987     0.0  "
      ]
     },
     "execution_count": 89,
     "metadata": {},
     "output_type": "execute_result"
    }
   ],
   "source": [
    "data = pd.read_csv('H1_breakout.csv') # read csv file of trades\n",
    "data.head()"
   ]
  },
  {
   "cell_type": "code",
   "execution_count": 90,
   "metadata": {},
   "outputs": [
    {
     "name": "stdout",
     "output_type": "stream",
     "text": [
      "len of result: 6167\n"
     ]
    }
   ],
   "source": [
    "print(\"len of result:\", len(data['result']))"
   ]
  },
  {
   "cell_type": "code",
   "execution_count": 91,
   "metadata": {
    "collapsed": true
   },
   "outputs": [],
   "source": [
    "# drop string columns\n",
    "data.drop(data.columns[[0, 1]], axis=1, inplace=True)\n",
    "    \n",
    "# convert to float\n",
    "for col in data:\n",
    "    data[col] = pd.to_numeric(data[col])\n",
    "    \n",
    "# delete rows with nans\n",
    "data = data.dropna()"
   ]
  },
  {
   "cell_type": "code",
   "execution_count": 92,
   "metadata": {},
   "outputs": [
    {
     "name": "stdout",
     "output_type": "stream",
     "text": [
      "<class 'pandas.core.frame.DataFrame'>\n",
      "Int64Index: 6131 entries, 0 to 6144\n",
      "Data columns (total 18 columns):\n",
      "rg        6131 non-null int64\n",
      "h         6131 non-null float64\n",
      "l         6131 non-null float64\n",
      "c1        6131 non-null float64\n",
      "c2        6131 non-null float64\n",
      "c3        6131 non-null float64\n",
      "supp      6131 non-null float64\n",
      "o_s       6131 non-null float64\n",
      "p_s       6131 non-null float64\n",
      "obv1      6131 non-null float64\n",
      "obv2      6131 non-null float64\n",
      "obv3      6131 non-null float64\n",
      "rsi1      6131 non-null float64\n",
      "rsi2      6131 non-null float64\n",
      "rsi3      6131 non-null float64\n",
      "natr      6131 non-null float64\n",
      "cyc       6131 non-null float64\n",
      "result    6131 non-null float64\n",
      "dtypes: float64(17), int64(1)\n",
      "memory usage: 910.1 KB\n"
     ]
    }
   ],
   "source": [
    "data.info()"
   ]
  },
  {
   "cell_type": "code",
   "execution_count": 93,
   "metadata": {},
   "outputs": [
    {
     "name": "stdout",
     "output_type": "stream",
     "text": [
      "breakouts: 802  |  false breakouts: 5329\n"
     ]
    }
   ],
   "source": [
    "pos = (list(np.where(data['result'] == 1.0)[0]))\n",
    "neg = (list(np.where(data['result'] == 0.0)[0]))\n",
    "\n",
    "print(\"breakouts:\", len(pos), \" | \", \"false breakouts:\", len(neg))"
   ]
  },
  {
   "cell_type": "code",
   "execution_count": 94,
   "metadata": {
    "collapsed": true
   },
   "outputs": [],
   "source": [
    "index = range(len(data['result']))\n",
    "data['index'] = index"
   ]
  },
  {
   "cell_type": "code",
   "execution_count": 95,
   "metadata": {},
   "outputs": [
    {
     "data": {
      "image/png": "[encoded data removed]",
      "text/plain": [
       "<matplotlib.figure.Figure at 0x1a20328f28>"
      ]
     },
     "metadata": {},
     "output_type": "display_data"
    }
   ],
   "source": [
    "# do some visualization with result column\n",
    "# we result to be evenly distributed\n",
    "import seaborn as sns; sns.set()\n",
    "import matplotlib.pyplot as plt\n",
    "\n",
    "ax = sns.lineplot(x=\"index\", \n",
    "                  y=\"result\",\n",
    "                  data=data)\n",
    "plt.show()"
   ]
  },
  {
   "cell_type": "code",
   "execution_count": 96,
   "metadata": {},
   "outputs": [
    {
     "name": "stdout",
     "output_type": "stream",
     "text": [
      "pos: 156  | neg: 1071\n"
     ]
    }
   ],
   "source": [
    "X = data[['rg', 'h', 'l', 'c1', 'c2', 'c3', 'supp', 'o_s', 'p_s', 'obv1', 'obv2', 'obv3', 'rsi1', 'rsi2', 'rsi3', 'natr', 'cyc']]\n",
    "y = data['result']\n",
    "\n",
    "sc = MinMaxScaler()\n",
    "X = sc.fit_transform(X)\n",
    "\n",
    "# save sc so we can use it for predictions\n",
    "scaler_filename = \"H1_BR_scaler.save\"\n",
    "joblib.dump(sc, scaler_filename)\n",
    "\n",
    "from sklearn.model_selection import train_test_split\n",
    "X_train, X_test, y_train, y_test = train_test_split(X, y, test_size = 0.2, random_state=0)\n",
    "\n",
    "neg = pos = 0\n",
    "for val in y_test:\n",
    "    if val < 0.5:\n",
    "        neg += 1\n",
    "    else:\n",
    "        pos += 1\n",
    "print(\"pos:\", pos, \" | neg:\", neg)"
   ]
  },
  {
   "cell_type": "code",
   "execution_count": 97,
   "metadata": {},
   "outputs": [
    {
     "name": "stdout",
     "output_type": "stream",
     "text": [
      "0.8728606356968215\n"
     ]
    }
   ],
   "source": [
    "# build a logistic regression model\n",
    "# Posted accuracy of .75 - .83 \n",
    "# accuracy not meaningful because of unbalanced nature of dataset\n",
    "\n",
    "from sklearn.linear_model import LogisticRegression\n",
    "logisticRegr = LogisticRegression()\n",
    "logisticRegr.fit(X_train, y_train)\n",
    "predictions = logisticRegr.predict(X_test)\n",
    "score = logisticRegr.score(X_test, y_test)\n",
    "print(score)"
   ]
  },
  {
   "cell_type": "code",
   "execution_count": 98,
   "metadata": {},
   "outputs": [
    {
     "name": "stdout",
     "output_type": "stream",
     "text": [
      "Train on 3285 samples, validate on 1619 samples\n",
      "Epoch 1/75\n",
      "3285/3285 [==============================] - 1s 433us/step - loss: 0.1188 - acc: 0.8734 - val_loss: 0.1209 - val_acc: 0.8579\n",
      "Epoch 2/75\n",
      "3285/3285 [==============================] - 0s 132us/step - loss: 0.1092 - acc: 0.8734 - val_loss: 0.1163 - val_acc: 0.8579\n",
      "Epoch 3/75\n",
      "3285/3285 [==============================] - 0s 131us/step - loss: 0.1068 - acc: 0.8734 - val_loss: 0.1135 - val_acc: 0.8579\n",
      "Epoch 4/75\n",
      "3285/3285 [==============================] - 0s 124us/step - loss: 0.1021 - acc: 0.8734 - val_loss: 0.1088 - val_acc: 0.8647\n",
      "Epoch 5/75\n",
      "3285/3285 [==============================] - 0s 129us/step - loss: 0.1013 - acc: 0.8776 - val_loss: 0.1110 - val_acc: 0.8691\n",
      "Epoch 6/75\n",
      "3285/3285 [==============================] - 0s 125us/step - loss: 0.0991 - acc: 0.8843 - val_loss: 0.1093 - val_acc: 0.8715\n",
      "Epoch 7/75\n",
      "3285/3285 [==============================] - 0s 122us/step - loss: 0.0962 - acc: 0.8843 - val_loss: 0.1032 - val_acc: 0.8771\n",
      "Epoch 8/75\n",
      "3285/3285 [==============================] - 0s 142us/step - loss: 0.0949 - acc: 0.8883 - val_loss: 0.1023 - val_acc: 0.8758\n",
      "Epoch 9/75\n",
      "3285/3285 [==============================] - 0s 130us/step - loss: 0.0924 - acc: 0.8898 - val_loss: 0.0960 - val_acc: 0.8870\n",
      "Epoch 10/75\n",
      "3285/3285 [==============================] - 0s 124us/step - loss: 0.0894 - acc: 0.8910 - val_loss: 0.0994 - val_acc: 0.8814\n",
      "Epoch 11/75\n",
      "3285/3285 [==============================] - 0s 124us/step - loss: 0.0859 - acc: 0.8977 - val_loss: 0.1007 - val_acc: 0.8820\n",
      "Epoch 12/75\n",
      "3285/3285 [==============================] - 0s 134us/step - loss: 0.0864 - acc: 0.8959 - val_loss: 0.0936 - val_acc: 0.8863\n",
      "Epoch 13/75\n",
      "3285/3285 [==============================] - 0s 124us/step - loss: 0.0839 - acc: 0.8977 - val_loss: 0.0991 - val_acc: 0.8777\n",
      "Epoch 14/75\n",
      "3285/3285 [==============================] - 0s 123us/step - loss: 0.0834 - acc: 0.8971 - val_loss: 0.1107 - val_acc: 0.8715\n",
      "Epoch 15/75\n",
      "3285/3285 [==============================] - 0s 126us/step - loss: 0.0835 - acc: 0.9011 - val_loss: 0.0889 - val_acc: 0.8938\n",
      "Epoch 16/75\n",
      "3285/3285 [==============================] - 0s 124us/step - loss: 0.0827 - acc: 0.8971 - val_loss: 0.0888 - val_acc: 0.8882\n",
      "Epoch 17/75\n",
      "3285/3285 [==============================] - 0s 127us/step - loss: 0.0768 - acc: 0.9072 - val_loss: 0.0899 - val_acc: 0.8919\n",
      "Epoch 18/75\n",
      "3285/3285 [==============================] - 0s 123us/step - loss: 0.0743 - acc: 0.9117 - val_loss: 0.0883 - val_acc: 0.8907\n",
      "Epoch 19/75\n",
      "3285/3285 [==============================] - 0s 125us/step - loss: 0.0748 - acc: 0.9096 - val_loss: 0.0928 - val_acc: 0.8833\n",
      "Epoch 20/75\n",
      "3285/3285 [==============================] - 0s 125us/step - loss: 0.0695 - acc: 0.9157 - val_loss: 0.0868 - val_acc: 0.8913\n",
      "Epoch 21/75\n",
      "3285/3285 [==============================] - 0s 123us/step - loss: 0.0674 - acc: 0.9172 - val_loss: 0.0757 - val_acc: 0.9092\n",
      "Epoch 22/75\n",
      "3285/3285 [==============================] - 0s 125us/step - loss: 0.0666 - acc: 0.9169 - val_loss: 0.0900 - val_acc: 0.8919\n",
      "Epoch 23/75\n",
      "3285/3285 [==============================] - 0s 129us/step - loss: 0.0682 - acc: 0.9126 - val_loss: 0.0853 - val_acc: 0.8925\n",
      "Epoch 24/75\n",
      "3285/3285 [==============================] - 0s 124us/step - loss: 0.0630 - acc: 0.9202 - val_loss: 0.0817 - val_acc: 0.9006\n",
      "Epoch 25/75\n",
      "3285/3285 [==============================] - 0s 122us/step - loss: 0.0612 - acc: 0.9245 - val_loss: 0.0805 - val_acc: 0.9049\n",
      "Epoch 26/75\n",
      "3285/3285 [==============================] - 0s 122us/step - loss: 0.0612 - acc: 0.9242 - val_loss: 0.0696 - val_acc: 0.9185\n",
      "Epoch 27/75\n",
      "3285/3285 [==============================] - 0s 125us/step - loss: 0.0584 - acc: 0.9257 - val_loss: 0.0751 - val_acc: 0.9086\n",
      "Epoch 28/75\n",
      "3285/3285 [==============================] - 0s 126us/step - loss: 0.0577 - acc: 0.9275 - val_loss: 0.0713 - val_acc: 0.9123\n",
      "Epoch 29/75\n",
      "3285/3285 [==============================] - 0s 126us/step - loss: 0.0510 - acc: 0.9333 - val_loss: 0.0690 - val_acc: 0.9148\n",
      "Epoch 30/75\n",
      "3285/3285 [==============================] - 0s 122us/step - loss: 0.0518 - acc: 0.9349 - val_loss: 0.0702 - val_acc: 0.9179\n",
      "Epoch 31/75\n",
      "3285/3285 [==============================] - 0s 124us/step - loss: 0.0478 - acc: 0.9416 - val_loss: 0.0712 - val_acc: 0.9129\n",
      "Epoch 32/75\n",
      "3285/3285 [==============================] - ETA: 0s - loss: 0.0522 - acc: 0.934 - 0s 124us/step - loss: 0.0516 - acc: 0.9342 - val_loss: 0.0659 - val_acc: 0.9228\n",
      "Epoch 33/75\n",
      "3285/3285 [==============================] - 0s 123us/step - loss: 0.0513 - acc: 0.9352 - val_loss: 0.0699 - val_acc: 0.9141\n",
      "Epoch 34/75\n",
      "3285/3285 [==============================] - 0s 124us/step - loss: 0.0458 - acc: 0.9412 - val_loss: 0.0669 - val_acc: 0.9209\n",
      "Epoch 35/75\n",
      "3285/3285 [==============================] - 0s 123us/step - loss: 0.0472 - acc: 0.9412 - val_loss: 0.0661 - val_acc: 0.9203\n",
      "Epoch 36/75\n",
      "3285/3285 [==============================] - 0s 126us/step - loss: 0.0459 - acc: 0.9416 - val_loss: 0.0753 - val_acc: 0.9123\n",
      "Epoch 37/75\n",
      "3285/3285 [==============================] - 0s 121us/step - loss: 0.0465 - acc: 0.9388 - val_loss: 0.0664 - val_acc: 0.9234\n",
      "Epoch 38/75\n",
      "3285/3285 [==============================] - 0s 120us/step - loss: 0.0440 - acc: 0.9431 - val_loss: 0.0656 - val_acc: 0.9209\n",
      "Epoch 39/75\n",
      "3285/3285 [==============================] - 0s 119us/step - loss: 0.0417 - acc: 0.9458 - val_loss: 0.0694 - val_acc: 0.9123\n",
      "Epoch 40/75\n",
      "3285/3285 [==============================] - 0s 120us/step - loss: 0.0512 - acc: 0.9373 - val_loss: 0.0675 - val_acc: 0.9197\n",
      "Epoch 41/75\n",
      "3285/3285 [==============================] - 0s 119us/step - loss: 0.0425 - acc: 0.9461 - val_loss: 0.0680 - val_acc: 0.9179\n",
      "Epoch 42/75\n",
      "3285/3285 [==============================] - 0s 123us/step - loss: 0.0410 - acc: 0.9482 - val_loss: 0.0593 - val_acc: 0.9321\n",
      "Epoch 43/75\n",
      "3285/3285 [==============================] - ETA: 0s - loss: 0.0405 - acc: 0.9496- ETA: 0s - loss: 0.0457 - acc:  - 0s 125us/step - loss: 0.0402 - acc: 0.9489 - val_loss: 0.0602 - val_acc: 0.9290\n",
      "Epoch 44/75\n",
      "3285/3285 [==============================] - 0s 123us/step - loss: 0.0394 - acc: 0.9525 - val_loss: 0.0652 - val_acc: 0.9240\n",
      "Epoch 45/75\n",
      "3285/3285 [==============================] - 0s 125us/step - loss: 0.0456 - acc: 0.9425 - val_loss: 0.0686 - val_acc: 0.9191\n",
      "Epoch 46/75\n",
      "3285/3285 [==============================] - 0s 120us/step - loss: 0.0410 - acc: 0.9510 - val_loss: 0.0709 - val_acc: 0.9197\n",
      "Epoch 47/75\n",
      "3285/3285 [==============================] - ETA: 0s - loss: 0.0400 - acc: 0.948 - 0s 124us/step - loss: 0.0405 - acc: 0.9473 - val_loss: 0.0630 - val_acc: 0.9222\n",
      "Epoch 48/75\n",
      "3285/3285 [==============================] - 0s 122us/step - loss: 0.0379 - acc: 0.9513 - val_loss: 0.0726 - val_acc: 0.9123\n",
      "Epoch 49/75\n",
      "3285/3285 [==============================] - 0s 122us/step - loss: 0.0374 - acc: 0.9516 - val_loss: 0.0654 - val_acc: 0.9166\n",
      "Epoch 50/75\n",
      "3285/3285 [==============================] - 0s 123us/step - loss: 0.0373 - acc: 0.9537 - val_loss: 0.0617 - val_acc: 0.9284\n",
      "Epoch 51/75\n",
      "3285/3285 [==============================] - 0s 121us/step - loss: 0.0370 - acc: 0.9519 - val_loss: 0.0574 - val_acc: 0.9308\n",
      "Epoch 52/75\n",
      "3285/3285 [==============================] - 0s 122us/step - loss: 0.0399 - acc: 0.9498 - val_loss: 0.0591 - val_acc: 0.9314\n",
      "Epoch 53/75\n",
      "3285/3285 [==============================] - 0s 125us/step - loss: 0.0375 - acc: 0.9534 - val_loss: 0.0556 - val_acc: 0.9327\n",
      "Epoch 54/75\n",
      "3285/3285 [==============================] - 0s 121us/step - loss: 0.0360 - acc: 0.9574 - val_loss: 0.0606 - val_acc: 0.9290\n",
      "Epoch 55/75\n",
      "3285/3285 [==============================] - 0s 121us/step - loss: 0.0406 - acc: 0.9482 - val_loss: 0.0700 - val_acc: 0.9086\n",
      "Epoch 56/75\n",
      "3285/3285 [==============================] - 0s 122us/step - loss: 0.0361 - acc: 0.9571 - val_loss: 0.0572 - val_acc: 0.9345\n",
      "Epoch 57/75\n",
      "3285/3285 [==============================] - 0s 123us/step - loss: 0.0330 - acc: 0.9592 - val_loss: 0.0638 - val_acc: 0.9216\n",
      "Epoch 58/75\n",
      "3285/3285 [==============================] - 0s 122us/step - loss: 0.0370 - acc: 0.9537 - val_loss: 0.0588 - val_acc: 0.9327\n",
      "Epoch 59/75\n"
     ]
    },
    {
     "name": "stdout",
     "output_type": "stream",
     "text": [
      "3285/3285 [==============================] - 0s 118us/step - loss: 0.0333 - acc: 0.9595 - val_loss: 0.0579 - val_acc: 0.9321\n",
      "Epoch 60/75\n",
      "3285/3285 [==============================] - 0s 121us/step - loss: 0.0395 - acc: 0.9507 - val_loss: 0.0653 - val_acc: 0.9209\n",
      "Epoch 61/75\n",
      "3285/3285 [==============================] - 0s 121us/step - loss: 0.0408 - acc: 0.9476 - val_loss: 0.0592 - val_acc: 0.9271\n",
      "Epoch 62/75\n",
      "3285/3285 [==============================] - 0s 122us/step - loss: 0.0303 - acc: 0.9623 - val_loss: 0.0562 - val_acc: 0.9327\n",
      "Epoch 63/75\n",
      "3285/3285 [==============================] - 0s 123us/step - loss: 0.0315 - acc: 0.9613 - val_loss: 0.0606 - val_acc: 0.9271\n",
      "Epoch 64/75\n",
      "3285/3285 [==============================] - 0s 122us/step - loss: 0.0375 - acc: 0.9504 - val_loss: 0.0521 - val_acc: 0.9382\n",
      "Epoch 65/75\n",
      "3285/3285 [==============================] - 0s 123us/step - loss: 0.0308 - acc: 0.9613 - val_loss: 0.0529 - val_acc: 0.9370\n",
      "Epoch 66/75\n",
      "3285/3285 [==============================] - 0s 123us/step - loss: 0.0309 - acc: 0.9604 - val_loss: 0.0563 - val_acc: 0.9333\n",
      "Epoch 67/75\n",
      "3285/3285 [==============================] - 0s 122us/step - loss: 0.0316 - acc: 0.9604 - val_loss: 0.0622 - val_acc: 0.9277\n",
      "Epoch 68/75\n",
      "3285/3285 [==============================] - 0s 122us/step - loss: 0.0301 - acc: 0.9610 - val_loss: 0.0553 - val_acc: 0.9370\n",
      "Epoch 69/75\n",
      "3285/3285 [==============================] - 0s 122us/step - loss: 0.0309 - acc: 0.9577 - val_loss: 0.0522 - val_acc: 0.9370\n",
      "Epoch 70/75\n",
      "3285/3285 [==============================] - 0s 120us/step - loss: 0.0322 - acc: 0.9592 - val_loss: 0.0598 - val_acc: 0.9271\n",
      "Epoch 71/75\n",
      "3285/3285 [==============================] - 0s 120us/step - loss: 0.0308 - acc: 0.9619 - val_loss: 0.0549 - val_acc: 0.9327\n",
      "Epoch 72/75\n",
      "3285/3285 [==============================] - 0s 116us/step - loss: 0.0297 - acc: 0.9607 - val_loss: 0.0552 - val_acc: 0.9339\n",
      "Epoch 73/75\n",
      "3285/3285 [==============================] - 0s 118us/step - loss: 0.0322 - acc: 0.9598 - val_loss: 0.0683 - val_acc: 0.9172\n",
      "Epoch 74/75\n",
      "3285/3285 [==============================] - 0s 122us/step - loss: 0.0346 - acc: 0.9571 - val_loss: 0.0516 - val_acc: 0.9426\n",
      "Epoch 75/75\n",
      "3285/3285 [==============================] - 0s 123us/step - loss: 0.0262 - acc: 0.9656 - val_loss: 0.0494 - val_acc: 0.9432\n",
      "4904/4904 [==============================] - 0s 33us/step\n",
      "1227/1227 [==============================] - 0s 36us/step\n",
      "Training set accuracy: 0.9622756933115824\n",
      "Test set accuracy: 0.9494702528916245\n"
     ]
    }
   ],
   "source": [
    "# Build the deep neural net: Posted Accuracy of .9 on train, .85 on test\n",
    "\n",
    "# Number of neurons in the first layer = number of columns in dataset\n",
    "# Activation function = ReLU\n",
    "# 5 Hidden layers for a total of 6 layers in the network\n",
    "# Last layer activation function = Sigmoid\n",
    "\n",
    "class_weights = class_weight.compute_class_weight('balanced', \n",
    "                                                  np.unique(y_train), \n",
    "                                                  y_train)\n",
    "\n",
    "model = Sequential()\n",
    "\n",
    "# input layer\n",
    "model.add(Dense(100, activation='relu', input_dim = 17))\n",
    "          \n",
    "# second layer\n",
    "model.add(Dense(60, activation='relu'))\n",
    "          \n",
    "# third layer\n",
    "model.add(Dense(60, activation='relu'))\n",
    "          \n",
    "# fourth layer\n",
    "model.add(Dense(60, activation='relu'))\n",
    "\n",
    "# fith layer\n",
    "model.add(Dense(60, activation='relu'))\n",
    "          \n",
    "# output layer\n",
    "model.add(Dense(1, activation='sigmoid'))\n",
    "\n",
    "# compile the model using rmsprop opt and mse loss\n",
    "model.compile(optimizer = 'adam',     \n",
    "              loss = 'mse',\n",
    "              metrics = ['accuracy'])\n",
    "\n",
    "# Train the model, iterating on the data in batches of 32 samples\n",
    "history = model.fit(X_train, y_train, \n",
    "                    validation_split = 0.33, \n",
    "                    epochs = 75,\n",
    "                    #class_weight = class_weights,\n",
    "                    batch_size = 25)\n",
    "\n",
    "# Evaluate the model's performance\n",
    "train_loss, train_acc = model.evaluate(X_train, y_train)\n",
    "test_loss, test_acc = model.evaluate(X_test, y_test)\n",
    "\n",
    "print('Training set accuracy:', train_acc)\n",
    "print('Test set accuracy:', test_acc)"
   ]
  },
  {
   "cell_type": "code",
   "execution_count": 99,
   "metadata": {},
   "outputs": [
    {
     "data": {
      "image/png": "[encoded data removed]",
      "text/plain": [
       "<matplotlib.figure.Figure at 0x1a2025b9e8>"
      ]
     },
     "metadata": {},
     "output_type": "display_data"
    }
   ],
   "source": [
    "# The history of our accuracy during training.\n",
    "plt.plot(history.history['acc'])\n",
    "plt.plot(history.history['val_acc'])\n",
    "plt.title('Model Accuracy')\n",
    "plt.ylabel('Accuracy')\n",
    "plt.xlabel('Number of epochs')\n",
    "plt.legend(['train', 'test'], loc='upper left')\n",
    "plt.show()"
   ]
  },
  {
   "cell_type": "code",
   "execution_count": 100,
   "metadata": {},
   "outputs": [
    {
     "data": {
      "image/png": "[encoded data removed]",
      "text/plain": [
       "<matplotlib.figure.Figure at 0x1a210e0ac8>"
      ]
     },
     "metadata": {},
     "output_type": "display_data"
    }
   ],
   "source": [
    "# The history of our cross-entropy loss during training.\n",
    "plt.plot(history.history['loss'])\n",
    "plt.plot(history.history['val_loss'])\n",
    "plt.title('Model Loss')\n",
    "plt.ylabel('Loss')\n",
    "plt.xlabel('Number of epochs')\n",
    "plt.legend(['train', 'test'], loc='upper left')\n",
    "plt.show()"
   ]
  },
  {
   "cell_type": "code",
   "execution_count": 101,
   "metadata": {},
   "outputs": [
    {
     "name": "stdout",
     "output_type": "stream",
     "text": [
      "_________________________________________________________________\n",
      "Layer (type)                 Output Shape              Param #   \n",
      "=================================================================\n",
      "dense_25 (Dense)             (None, 100)               1800      \n",
      "_________________________________________________________________\n",
      "dense_26 (Dense)             (None, 60)                6060      \n",
      "_________________________________________________________________\n",
      "dense_27 (Dense)             (None, 60)                3660      \n",
      "_________________________________________________________________\n",
      "dense_28 (Dense)             (None, 60)                3660      \n",
      "_________________________________________________________________\n",
      "dense_29 (Dense)             (None, 60)                3660      \n",
      "_________________________________________________________________\n",
      "dense_30 (Dense)             (None, 1)                 61        \n",
      "=================================================================\n",
      "Total params: 18,901\n",
      "Trainable params: 18,901\n",
      "Non-trainable params: 0\n",
      "_________________________________________________________________\n"
     ]
    }
   ],
   "source": [
    "model.summary()"
   ]
  },
  {
   "cell_type": "code",
   "execution_count": 102,
   "metadata": {},
   "outputs": [
    {
     "name": "stdout",
     "output_type": "stream",
     "text": [
      "pos: 124  | neg: 1103\n"
     ]
    }
   ],
   "source": [
    "predictions = model.predict(X_test)\n",
    "neg = pos = 0\n",
    "for pred in predictions:\n",
    "    if pred < 0.5:\n",
    "        neg += 1\n",
    "    else:\n",
    "        pos += 1\n",
    "print(\"pos:\", pos, \" | neg:\", neg)"
   ]
  },
  {
   "cell_type": "code",
   "execution_count": 103,
   "metadata": {},
   "outputs": [
    {
     "name": "stdout",
     "output_type": "stream",
     "text": [
      "1227/1227 [==============================] - 0s 173us/step\n",
      "Test set accuracy: 0.9494702528916245\n"
     ]
    }
   ],
   "source": [
    "# save the model for later use\n",
    "\n",
    "from keras.models import load_model\n",
    "model.save('H1_DNN_Breakout')  # creates a HDF5 file\n",
    "del model  # deletes the existing model\n",
    "\n",
    "# load model to make sure that it was correctly saved\n",
    "model = load_model('H1_DNN_Breakout')\n",
    "\n",
    "test_loss, test_acc = model.evaluate(X_test, y_test)\n",
    "print('Test set accuracy:', test_acc)"
   ]
  }
 ],
 "metadata": {
  "kernelspec": {
   "display_name": "Python 3",
   "language": "python",
   "name": "python3"
  },
  "language_info": {
   "codemirror_mode": {
    "name": "ipython",
    "version": 3
   },
   "file_extension": ".py",
   "mimetype": "text/x-python",
   "name": "python",
   "nbconvert_exporter": "python",
   "pygments_lexer": "ipython3",
   "version": "3.6.8"
  }
 },
 "nbformat": 4,
 "nbformat_minor": 2
}
