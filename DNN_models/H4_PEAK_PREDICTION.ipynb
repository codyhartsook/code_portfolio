{
 "cells": [
  {
   "cell_type": "code",
   "execution_count": 1,
   "metadata": {},
   "outputs": [
    {
     "name": "stderr",
     "output_type": "stream",
     "text": [
      "/Users/codyhartsook/anaconda3/lib/python3.6/site-packages/h5py/__init__.py:34: FutureWarning: Conversion of the second argument of issubdtype from `float` to `np.floating` is deprecated. In future, it will be treated as `np.float64 == np.dtype(float).type`.\n",
      "  from ._conv import register_converters as _register_converters\n",
      "Using TensorFlow backend.\n"
     ]
    }
   ],
   "source": [
    "import numpy as np\n",
    "import pandas as pd\n",
    "import random\n",
    "import matplotlib.pyplot as plt\n",
    "from sklearn.preprocessing import MinMaxScaler\n",
    "from sklearn.externals import joblib\n",
    "\n",
    "from keras.models import Sequential\n",
    "from keras.layers import Dense, Activation\n",
    "from keras import regularizers\n",
    "from sklearn.utils import class_weight"
   ]
  },
  {
   "cell_type": "code",
   "execution_count": 2,
   "metadata": {},
   "outputs": [
    {
     "data": {
      "text/html": [
       "<div>\n",
       "<style scoped>\n",
       "    .dataframe tbody tr th:only-of-type {\n",
       "        vertical-align: middle;\n",
       "    }\n",
       "\n",
       "    .dataframe tbody tr th {\n",
       "        vertical-align: top;\n",
       "    }\n",
       "\n",
       "    .dataframe thead th {\n",
       "        text-align: right;\n",
       "    }\n",
       "</style>\n",
       "<table border=\"1\" class=\"dataframe\">\n",
       "  <thead>\n",
       "    <tr style=\"text-align: right;\">\n",
       "      <th></th>\n",
       "      <th>price0</th>\n",
       "      <th>price1</th>\n",
       "      <th>price2</th>\n",
       "      <th>price3</th>\n",
       "      <th>price4</th>\n",
       "      <th>price5</th>\n",
       "      <th>price6</th>\n",
       "      <th>price7</th>\n",
       "      <th>obv0</th>\n",
       "      <th>obv1</th>\n",
       "      <th>...</th>\n",
       "      <th>stS7</th>\n",
       "      <th>natr0</th>\n",
       "      <th>natr1</th>\n",
       "      <th>natr2</th>\n",
       "      <th>natr3</th>\n",
       "      <th>natr4</th>\n",
       "      <th>natr5</th>\n",
       "      <th>natr6</th>\n",
       "      <th>natr7</th>\n",
       "      <th>label</th>\n",
       "    </tr>\n",
       "  </thead>\n",
       "  <tbody>\n",
       "    <tr>\n",
       "      <th>2379</th>\n",
       "      <td>1.60155</td>\n",
       "      <td>1.60028</td>\n",
       "      <td>1.59986</td>\n",
       "      <td>1.59698</td>\n",
       "      <td>1.59740</td>\n",
       "      <td>1.59566</td>\n",
       "      <td>1.59618</td>\n",
       "      <td>1.59577</td>\n",
       "      <td>12692.0</td>\n",
       "      <td>9885.0</td>\n",
       "      <td>...</td>\n",
       "      <td>4.660462e+00</td>\n",
       "      <td>0.318093</td>\n",
       "      <td>0.314832</td>\n",
       "      <td>0.312076</td>\n",
       "      <td>0.308185</td>\n",
       "      <td>0.299115</td>\n",
       "      <td>0.298633</td>\n",
       "      <td>0.290155</td>\n",
       "      <td>0.285275</td>\n",
       "      <td>0</td>\n",
       "    </tr>\n",
       "    <tr>\n",
       "      <th>2380</th>\n",
       "      <td>6.58997</td>\n",
       "      <td>6.57742</td>\n",
       "      <td>6.58720</td>\n",
       "      <td>6.59157</td>\n",
       "      <td>6.58875</td>\n",
       "      <td>6.59058</td>\n",
       "      <td>6.60334</td>\n",
       "      <td>6.59886</td>\n",
       "      <td>443892.0</td>\n",
       "      <td>406823.0</td>\n",
       "      <td>...</td>\n",
       "      <td>7.166831e+01</td>\n",
       "      <td>0.170993</td>\n",
       "      <td>0.174102</td>\n",
       "      <td>0.177433</td>\n",
       "      <td>0.172766</td>\n",
       "      <td>0.169920</td>\n",
       "      <td>0.165521</td>\n",
       "      <td>0.169382</td>\n",
       "      <td>0.171948</td>\n",
       "      <td>1</td>\n",
       "    </tr>\n",
       "    <tr>\n",
       "      <th>2381</th>\n",
       "      <td>6.61826</td>\n",
       "      <td>6.61436</td>\n",
       "      <td>6.61598</td>\n",
       "      <td>6.61902</td>\n",
       "      <td>6.60832</td>\n",
       "      <td>6.59252</td>\n",
       "      <td>6.58918</td>\n",
       "      <td>6.58357</td>\n",
       "      <td>494209.0</td>\n",
       "      <td>479639.0</td>\n",
       "      <td>...</td>\n",
       "      <td>-2.723747e-14</td>\n",
       "      <td>0.176968</td>\n",
       "      <td>0.172876</td>\n",
       "      <td>0.168696</td>\n",
       "      <td>0.174298</td>\n",
       "      <td>0.176936</td>\n",
       "      <td>0.184116</td>\n",
       "      <td>0.183862</td>\n",
       "      <td>0.180559</td>\n",
       "      <td>0</td>\n",
       "    </tr>\n",
       "    <tr>\n",
       "      <th>2382</th>\n",
       "      <td>31.26100</td>\n",
       "      <td>31.25600</td>\n",
       "      <td>31.23200</td>\n",
       "      <td>31.24800</td>\n",
       "      <td>31.24800</td>\n",
       "      <td>31.27000</td>\n",
       "      <td>31.42100</td>\n",
       "      <td>31.47800</td>\n",
       "      <td>3220.0</td>\n",
       "      <td>2180.0</td>\n",
       "      <td>...</td>\n",
       "      <td>1.000000e+02</td>\n",
       "      <td>0.161315</td>\n",
       "      <td>0.160472</td>\n",
       "      <td>0.160410</td>\n",
       "      <td>0.159672</td>\n",
       "      <td>0.154889</td>\n",
       "      <td>0.155835</td>\n",
       "      <td>0.175339</td>\n",
       "      <td>0.181678</td>\n",
       "      <td>1</td>\n",
       "    </tr>\n",
       "    <tr>\n",
       "      <th>2383</th>\n",
       "      <td>31.51900</td>\n",
       "      <td>31.47400</td>\n",
       "      <td>31.40400</td>\n",
       "      <td>31.45000</td>\n",
       "      <td>31.38200</td>\n",
       "      <td>31.40700</td>\n",
       "      <td>31.44000</td>\n",
       "      <td>31.44700</td>\n",
       "      <td>6360.0</td>\n",
       "      <td>6142.0</td>\n",
       "      <td>...</td>\n",
       "      <td>5.298038e+01</td>\n",
       "      <td>0.205654</td>\n",
       "      <td>0.205500</td>\n",
       "      <td>0.226548</td>\n",
       "      <td>0.228578</td>\n",
       "      <td>0.233234</td>\n",
       "      <td>0.230629</td>\n",
       "      <td>0.226979</td>\n",
       "      <td>0.218444</td>\n",
       "      <td>0</td>\n",
       "    </tr>\n",
       "  </tbody>\n",
       "</table>\n",
       "<p>5 rows × 65 columns</p>\n",
       "</div>"
      ],
      "text/plain": [
       "        price0    price1    price2    price3    price4    price5    price6  \\\n",
       "2379   1.60155   1.60028   1.59986   1.59698   1.59740   1.59566   1.59618   \n",
       "2380   6.58997   6.57742   6.58720   6.59157   6.58875   6.59058   6.60334   \n",
       "2381   6.61826   6.61436   6.61598   6.61902   6.60832   6.59252   6.58918   \n",
       "2382  31.26100  31.25600  31.23200  31.24800  31.24800  31.27000  31.42100   \n",
       "2383  31.51900  31.47400  31.40400  31.45000  31.38200  31.40700  31.44000   \n",
       "\n",
       "        price7      obv0      obv1  ...          stS7     natr0     natr1  \\\n",
       "2379   1.59577   12692.0    9885.0  ...  4.660462e+00  0.318093  0.314832   \n",
       "2380   6.59886  443892.0  406823.0  ...  7.166831e+01  0.170993  0.174102   \n",
       "2381   6.58357  494209.0  479639.0  ... -2.723747e-14  0.176968  0.172876   \n",
       "2382  31.47800    3220.0    2180.0  ...  1.000000e+02  0.161315  0.160472   \n",
       "2383  31.44700    6360.0    6142.0  ...  5.298038e+01  0.205654  0.205500   \n",
       "\n",
       "         natr2     natr3     natr4     natr5     natr6     natr7  label  \n",
       "2379  0.312076  0.308185  0.299115  0.298633  0.290155  0.285275      0  \n",
       "2380  0.177433  0.172766  0.169920  0.165521  0.169382  0.171948      1  \n",
       "2381  0.168696  0.174298  0.176936  0.184116  0.183862  0.180559      0  \n",
       "2382  0.160410  0.159672  0.154889  0.155835  0.175339  0.181678      1  \n",
       "2383  0.226548  0.228578  0.233234  0.230629  0.226979  0.218444      0  \n",
       "\n",
       "[5 rows x 65 columns]"
      ]
     },
     "execution_count": 2,
     "metadata": {},
     "output_type": "execute_result"
    }
   ],
   "source": [
    "data = pd.read_csv('peaks.csv') # read csv file of trades\n",
    "data.tail()"
   ]
  },
  {
   "cell_type": "code",
   "execution_count": 3,
   "metadata": {},
   "outputs": [
    {
     "name": "stdout",
     "output_type": "stream",
     "text": [
      "len of result: 2384\n"
     ]
    }
   ],
   "source": [
    "print(\"len of result:\", len(data['price0']))"
   ]
  },
  {
   "cell_type": "code",
   "execution_count": 4,
   "metadata": {
    "collapsed": true
   },
   "outputs": [],
   "source": [
    "for col in data:\n",
    "    data[col] = pd.to_numeric(data[col])"
   ]
  },
  {
   "cell_type": "code",
   "execution_count": 5,
   "metadata": {
    "collapsed": true
   },
   "outputs": [],
   "source": [
    "data = data.dropna()"
   ]
  },
  {
   "cell_type": "code",
   "execution_count": 6,
   "metadata": {},
   "outputs": [
    {
     "name": "stdout",
     "output_type": "stream",
     "text": [
      "len after dropping nans: 2384\n"
     ]
    }
   ],
   "source": [
    "print(\"len after dropping nans:\", len(data['price0']))"
   ]
  },
  {
   "cell_type": "code",
   "execution_count": 7,
   "metadata": {},
   "outputs": [
    {
     "name": "stdout",
     "output_type": "stream",
     "text": [
      "pos: 1192  | neg: 1192\n"
     ]
    }
   ],
   "source": [
    "neg = pos = 0\n",
    "for val in data['label']:\n",
    "    if val < 0.5:\n",
    "        neg += 1\n",
    "    else:\n",
    "        pos += 1\n",
    "print(\"pos:\", pos, \" | neg:\", neg)"
   ]
  },
  {
   "cell_type": "code",
   "execution_count": 8,
   "metadata": {},
   "outputs": [
    {
     "name": "stdout",
     "output_type": "stream",
     "text": [
      "(2384, 64)\n"
     ]
    }
   ],
   "source": [
    "X = data.loc[:, :'natr7']\n",
    "y = data['label']\n",
    "\n",
    "sc = MinMaxScaler()\n",
    "X = sc.fit_transform(X)\n",
    "\n",
    "# save sc so we can use it for predictions\n",
    "scaler_filename = \"H4_SELL_scaler.save\"\n",
    "joblib.dump(sc, scaler_filename)\n",
    "\n",
    "from sklearn.model_selection import train_test_split\n",
    "X_train, X_test, y_train, y_test = train_test_split(X, y, test_size = 0.2, random_state=0)\n",
    "print(X.shape)"
   ]
  },
  {
   "cell_type": "code",
   "execution_count": 9,
   "metadata": {},
   "outputs": [
    {
     "name": "stdout",
     "output_type": "stream",
     "text": [
      "Train on 1277 samples, validate on 630 samples\n",
      "Epoch 1/50\n",
      "1277/1277 [==============================] - 1s 700us/step - loss: 0.1335 - acc: 0.7980 - val_loss: 0.0685 - val_acc: 0.9127\n",
      "Epoch 2/50\n",
      "1277/1277 [==============================] - 0s 136us/step - loss: 0.0622 - acc: 0.9170 - val_loss: 0.0656 - val_acc: 0.9048\n",
      "Epoch 3/50\n",
      "1277/1277 [==============================] - 0s 134us/step - loss: 0.0533 - acc: 0.9233 - val_loss: 0.0475 - val_acc: 0.9397\n",
      "Epoch 4/50\n",
      "1277/1277 [==============================] - 0s 137us/step - loss: 0.0511 - acc: 0.9303 - val_loss: 0.0453 - val_acc: 0.9429\n",
      "Epoch 5/50\n",
      "1277/1277 [==============================] - 0s 136us/step - loss: 0.0429 - acc: 0.9452 - val_loss: 0.0442 - val_acc: 0.9349\n",
      "Epoch 6/50\n",
      "1277/1277 [==============================] - 0s 134us/step - loss: 0.0444 - acc: 0.9389 - val_loss: 0.0405 - val_acc: 0.9508\n",
      "Epoch 7/50\n",
      "1277/1277 [==============================] - 0s 135us/step - loss: 0.0376 - acc: 0.9554 - val_loss: 0.0395 - val_acc: 0.9476\n",
      "Epoch 8/50\n",
      "1277/1277 [==============================] - 0s 133us/step - loss: 0.0382 - acc: 0.9499 - val_loss: 0.0431 - val_acc: 0.9381\n",
      "Epoch 9/50\n",
      "1277/1277 [==============================] - 0s 138us/step - loss: 0.0376 - acc: 0.9468 - val_loss: 0.0386 - val_acc: 0.9476\n",
      "Epoch 10/50\n",
      "1277/1277 [==============================] - 0s 135us/step - loss: 0.0388 - acc: 0.9507 - val_loss: 0.0371 - val_acc: 0.9524\n",
      "Epoch 11/50\n",
      "1277/1277 [==============================] - 0s 133us/step - loss: 0.0367 - acc: 0.9491 - val_loss: 0.0408 - val_acc: 0.9460\n",
      "Epoch 12/50\n",
      "1277/1277 [==============================] - 0s 134us/step - loss: 0.0373 - acc: 0.9514 - val_loss: 0.0616 - val_acc: 0.9127\n",
      "Epoch 13/50\n",
      "1277/1277 [==============================] - 0s 136us/step - loss: 0.0353 - acc: 0.9546 - val_loss: 0.0392 - val_acc: 0.9524\n",
      "Epoch 14/50\n",
      "1277/1277 [==============================] - 0s 134us/step - loss: 0.0330 - acc: 0.9585 - val_loss: 0.0338 - val_acc: 0.9524\n",
      "Epoch 15/50\n",
      "1277/1277 [==============================] - 0s 136us/step - loss: 0.0276 - acc: 0.9679 - val_loss: 0.0298 - val_acc: 0.9619\n",
      "Epoch 16/50\n",
      "1277/1277 [==============================] - 0s 137us/step - loss: 0.0328 - acc: 0.9593 - val_loss: 0.0384 - val_acc: 0.9476\n",
      "Epoch 17/50\n",
      "1277/1277 [==============================] - 0s 134us/step - loss: 0.0318 - acc: 0.9585 - val_loss: 0.0606 - val_acc: 0.9159\n",
      "Epoch 18/50\n",
      "1277/1277 [==============================] - 0s 137us/step - loss: 0.0294 - acc: 0.9616 - val_loss: 0.0361 - val_acc: 0.9540\n",
      "Epoch 19/50\n",
      "1277/1277 [==============================] - 0s 139us/step - loss: 0.0272 - acc: 0.9655 - val_loss: 0.0296 - val_acc: 0.9635\n",
      "Epoch 20/50\n",
      "1277/1277 [==============================] - 0s 135us/step - loss: 0.0247 - acc: 0.9710 - val_loss: 0.0318 - val_acc: 0.9587\n",
      "Epoch 21/50\n",
      "1277/1277 [==============================] - 0s 136us/step - loss: 0.0290 - acc: 0.9671 - val_loss: 0.0321 - val_acc: 0.9540\n",
      "Epoch 22/50\n",
      "1277/1277 [==============================] - 0s 135us/step - loss: 0.0296 - acc: 0.9616 - val_loss: 0.0414 - val_acc: 0.9429\n",
      "Epoch 23/50\n",
      "1277/1277 [==============================] - 0s 133us/step - loss: 0.0235 - acc: 0.9695 - val_loss: 0.0598 - val_acc: 0.9190\n",
      "Epoch 24/50\n",
      "1277/1277 [==============================] - 0s 138us/step - loss: 0.0263 - acc: 0.9640 - val_loss: 0.0512 - val_acc: 0.9270\n",
      "Epoch 25/50\n",
      "1277/1277 [==============================] - 0s 135us/step - loss: 0.0230 - acc: 0.9702 - val_loss: 0.0448 - val_acc: 0.9349\n",
      "Epoch 26/50\n",
      "1277/1277 [==============================] - 0s 135us/step - loss: 0.0214 - acc: 0.9749 - val_loss: 0.0306 - val_acc: 0.9603\n",
      "Epoch 27/50\n",
      "1277/1277 [==============================] - 0s 135us/step - loss: 0.0218 - acc: 0.9702 - val_loss: 0.0312 - val_acc: 0.9619\n",
      "Epoch 28/50\n",
      "1277/1277 [==============================] - 0s 133us/step - loss: 0.0214 - acc: 0.9734 - val_loss: 0.0339 - val_acc: 0.9587\n",
      "Epoch 29/50\n",
      "1277/1277 [==============================] - 0s 133us/step - loss: 0.0300 - acc: 0.9616 - val_loss: 0.0519 - val_acc: 0.9302\n",
      "Epoch 30/50\n",
      "1277/1277 [==============================] - 0s 135us/step - loss: 0.0247 - acc: 0.9695 - val_loss: 0.0269 - val_acc: 0.9651\n",
      "Epoch 31/50\n",
      "1277/1277 [==============================] - 0s 135us/step - loss: 0.0167 - acc: 0.9789 - val_loss: 0.0303 - val_acc: 0.9635\n",
      "Epoch 32/50\n",
      "1277/1277 [==============================] - 0s 135us/step - loss: 0.0230 - acc: 0.9695 - val_loss: 0.0340 - val_acc: 0.9540\n",
      "Epoch 33/50\n",
      "1277/1277 [==============================] - 0s 136us/step - loss: 0.0205 - acc: 0.9749 - val_loss: 0.0518 - val_acc: 0.9270\n",
      "Epoch 34/50\n",
      "1277/1277 [==============================] - 0s 133us/step - loss: 0.0263 - acc: 0.9671 - val_loss: 0.0304 - val_acc: 0.9587\n",
      "Epoch 35/50\n",
      "1277/1277 [==============================] - 0s 133us/step - loss: 0.0184 - acc: 0.9781 - val_loss: 0.0260 - val_acc: 0.9651\n",
      "Epoch 36/50\n",
      "1277/1277 [==============================] - 0s 137us/step - loss: 0.0204 - acc: 0.9734 - val_loss: 0.0276 - val_acc: 0.9619\n",
      "Epoch 37/50\n",
      "1277/1277 [==============================] - 0s 135us/step - loss: 0.0250 - acc: 0.9695 - val_loss: 0.0283 - val_acc: 0.9651\n",
      "Epoch 38/50\n",
      "1277/1277 [==============================] - 0s 134us/step - loss: 0.0168 - acc: 0.9773 - val_loss: 0.0307 - val_acc: 0.9603\n",
      "Epoch 39/50\n",
      "1277/1277 [==============================] - 0s 137us/step - loss: 0.0225 - acc: 0.9718 - val_loss: 0.0362 - val_acc: 0.9540\n",
      "Epoch 40/50\n",
      "1277/1277 [==============================] - 0s 132us/step - loss: 0.0247 - acc: 0.9695 - val_loss: 0.0368 - val_acc: 0.9556\n",
      "Epoch 41/50\n",
      "1277/1277 [==============================] - 0s 135us/step - loss: 0.0205 - acc: 0.9718 - val_loss: 0.0407 - val_acc: 0.9492\n",
      "Epoch 42/50\n",
      "1277/1277 [==============================] - 0s 141us/step - loss: 0.0233 - acc: 0.9710 - val_loss: 0.0300 - val_acc: 0.9619\n",
      "Epoch 43/50\n",
      "1277/1277 [==============================] - 0s 136us/step - loss: 0.0178 - acc: 0.9789 - val_loss: 0.0477 - val_acc: 0.9413\n",
      "Epoch 44/50\n",
      "1277/1277 [==============================] - 0s 143us/step - loss: 0.0215 - acc: 0.9742 - val_loss: 0.0291 - val_acc: 0.9635\n",
      "Epoch 45/50\n",
      "1277/1277 [==============================] - 0s 136us/step - loss: 0.0222 - acc: 0.9695 - val_loss: 0.0479 - val_acc: 0.9349\n",
      "Epoch 46/50\n",
      "1277/1277 [==============================] - 0s 139us/step - loss: 0.0166 - acc: 0.9796 - val_loss: 0.0294 - val_acc: 0.9587\n",
      "Epoch 47/50\n",
      "1277/1277 [==============================] - 0s 136us/step - loss: 0.0149 - acc: 0.9828 - val_loss: 0.0301 - val_acc: 0.9587\n",
      "Epoch 48/50\n",
      "1277/1277 [==============================] - 0s 138us/step - loss: 0.0172 - acc: 0.9781 - val_loss: 0.0291 - val_acc: 0.9587\n",
      "Epoch 49/50\n",
      "1277/1277 [==============================] - 0s 140us/step - loss: 0.0163 - acc: 0.9789 - val_loss: 0.0453 - val_acc: 0.9444\n",
      "Epoch 50/50\n",
      "1277/1277 [==============================] - 0s 135us/step - loss: 0.0150 - acc: 0.9796 - val_loss: 0.0298 - val_acc: 0.9603\n",
      "1907/1907 [==============================] - 0s 25us/step\n",
      "477/477 [==============================] - 0s 32us/step\n",
      "Training set accuracy: 0.9753539593168498\n",
      "Test set accuracy: 0.9622641498187803\n"
     ]
    }
   ],
   "source": [
    "# Number of neurons in the first layer = number of columns in dataset\n",
    "# Activation function = ReLU\n",
    "# 5 Hidden layers for a total of 6 layers in the network\n",
    "# Last layer activation function = Sigmoid\n",
    "\n",
    "model = Sequential()\n",
    "\n",
    "# input layer\n",
    "model.add(Dense(100, activation='relu', input_dim = 64))\n",
    "          \n",
    "# second layer\n",
    "model.add(Dense(60, activation='relu'))\n",
    "          \n",
    "# third layer\n",
    "model.add(Dense(60, activation='relu'))\n",
    "          \n",
    "# fourth layer\n",
    "model.add(Dense(100, activation='relu'))\n",
    "\n",
    "# fith layer\n",
    "model.add(Dense(60, activation='relu'))\n",
    "          \n",
    "# output layer\n",
    "model.add(Dense(1, activation='sigmoid'))\n",
    "\n",
    "# compile the model using rmsprop opt and mse loss\n",
    "model.compile(optimizer = 'adam',     \n",
    "              loss = 'mse',\n",
    "              metrics = ['accuracy'])\n",
    "\n",
    "# Train the model, iterating on the data in batches of 32 samples\n",
    "history = model.fit(X_train, y_train, \n",
    "                    validation_split = 0.33, \n",
    "                    epochs = 50,\n",
    "                    batch_size = 20)\n",
    "\n",
    "# Evaluate the model's performance\n",
    "train_loss, train_acc = model.evaluate(X_train, y_train)\n",
    "test_loss, test_acc = model.evaluate(X_test, y_test)\n",
    "\n",
    "print('Training set accuracy:', train_acc)\n",
    "print('Test set accuracy:', test_acc)"
   ]
  },
  {
   "cell_type": "code",
   "execution_count": 10,
   "metadata": {},
   "outputs": [
    {
     "data": {
      "image/png": "[encoded data removed]",
      "text/plain": [
       "<matplotlib.figure.Figure at 0x1a1e8fda58>"
      ]
     },
     "metadata": {},
     "output_type": "display_data"
    }
   ],
   "source": [
    "# The history of our accuracy during training.\n",
    "plt.plot(history.history['acc'])\n",
    "plt.plot(history.history['val_acc'])\n",
    "plt.title('Model Accuracy')\n",
    "plt.ylabel('Accuracy')\n",
    "plt.xlabel('Number of epochs')\n",
    "plt.legend(['train', 'test'], loc='upper left')\n",
    "plt.show()"
   ]
  },
  {
   "cell_type": "code",
   "execution_count": 11,
   "metadata": {},
   "outputs": [
    {
     "data": {
      "image/png": "[encoded data removed]",
      "text/plain": [
       "<matplotlib.figure.Figure at 0x1a204089e8>"
      ]
     },
     "metadata": {},
     "output_type": "display_data"
    }
   ],
   "source": [
    "# The history of our cross-entropy loss during training.\n",
    "plt.plot(history.history['loss'])\n",
    "plt.plot(history.history['val_loss'])\n",
    "plt.title('Model Loss')\n",
    "plt.ylabel('Loss')\n",
    "plt.xlabel('Number of epochs')\n",
    "plt.legend(['train', 'test'], loc='upper left')\n",
    "plt.show()"
   ]
  },
  {
   "cell_type": "code",
   "execution_count": 12,
   "metadata": {},
   "outputs": [
    {
     "name": "stdout",
     "output_type": "stream",
     "text": [
      "477/477 [==============================] - 0s 143us/step\n",
      "Test set accuracy: 0.9622641498187803\n"
     ]
    }
   ],
   "source": [
    "# save the model for later use\n",
    "from keras.models import load_model\n",
    "model.save('H4_SELL_OPT')  # creates a HDF5 file\n",
    "del model  # deletes the existing model\n",
    "\n",
    "# load model to make sure that it was correctly saved\n",
    "model = load_model('H4_SELL_OPT')\n",
    "\n",
    "test_loss, test_acc = model.evaluate(X_test, y_test)\n",
    "print('Test set accuracy:', test_acc)"
   ]
  }
 ],
 "metadata": {
  "kernelspec": {
   "display_name": "Python 3",
   "language": "python",
   "name": "python3"
  },
  "language_info": {
   "codemirror_mode": {
    "name": "ipython",
    "version": 3
   },
   "file_extension": ".py",
   "mimetype": "text/x-python",
   "name": "python",
   "nbconvert_exporter": "python",
   "pygments_lexer": "ipython3",
   "version": "3.6.8"
  }
 },
 "nbformat": 4,
 "nbformat_minor": 2
}
